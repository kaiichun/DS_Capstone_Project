{
 "cells": [
  {
   "cell_type": "code",
   "execution_count": 1,
   "id": "1c56327d",
   "metadata": {},
   "outputs": [],
   "source": [
    "# pip install yahoo_fin\n",
    "# pip install pycoingecko\n",
    "# pip install yfinance\n",
    "# pip install yfinance plotly\n",
    "# pip install mplfinance "
   ]
  },
  {
   "cell_type": "markdown",
   "id": "6cad1997",
   "metadata": {},
   "source": [
    "### Import Library"
   ]
  },
  {
   "cell_type": "code",
   "execution_count": 4,
   "id": "01024e01",
   "metadata": {},
   "outputs": [],
   "source": [
    "%matplotlib inline\n",
    "import pandas as pd\n",
    "import numpy as np\n",
    "import seaborn as sns\n",
    "import matplotlib.pyplot as plt\n",
    "\n",
    "\n",
    "from sklearn.model_selection import train_test_split\n",
    "from sklearn.ensemble import RandomForestClassifier\n",
    "from sklearn.metrics import accuracy_score\n",
    "from sklearn.preprocessing import StandardScaler\n",
    "\n",
    "import warnings\n",
    "warnings.filterwarnings('ignore')\n",
    "np.random.seed(42)"
   ]
  },
  {
   "cell_type": "markdown",
   "id": "f42901fd",
   "metadata": {},
   "source": [
    "### Load dataset"
   ]
  },
  {
   "cell_type": "code",
   "execution_count": 5,
   "id": "aeca75c2",
   "metadata": {
    "scrolled": false
   },
   "outputs": [
    {
     "ename": "ModuleNotFoundError",
     "evalue": "No module named 'yfinance'",
     "output_type": "error",
     "traceback": [
      "\u001b[0;31m---------------------------------------------------------------------------\u001b[0m",
      "\u001b[0;31mModuleNotFoundError\u001b[0m                       Traceback (most recent call last)",
      "Cell \u001b[0;32mIn[5], line 1\u001b[0m\n\u001b[0;32m----> 1\u001b[0m \u001b[38;5;28;01mimport\u001b[39;00m \u001b[38;5;21;01myfinance\u001b[39;00m \u001b[38;5;28;01mas\u001b[39;00m \u001b[38;5;21;01myf\u001b[39;00m\n\u001b[1;32m      2\u001b[0m \u001b[38;5;28;01mfrom\u001b[39;00m \u001b[38;5;21;01mdatetime\u001b[39;00m \u001b[38;5;28;01mimport\u001b[39;00m datetime\n\u001b[1;32m      4\u001b[0m ticker \u001b[38;5;241m=\u001b[39m \u001b[38;5;124m'\u001b[39m\u001b[38;5;124mGC=F\u001b[39m\u001b[38;5;124m'\u001b[39m\n",
      "\u001b[0;31mModuleNotFoundError\u001b[0m: No module named 'yfinance'"
     ]
    }
   ],
   "source": [
    "import yfinance as yf\n",
    "from datetime import datetime\n",
    "\n",
    "ticker = 'GC=F'\n",
    "\n",
    "end_date = datetime.today().strftime('%Y-%m-%d')\n",
    "\n",
    "# Get the latest data for gold futures\n",
    "gold_data = yf.download(ticker, start='2004-01-01', end=end_date)\n",
    "\n",
    "goldDF = pd.DataFrame(gold_data).reset_index()\n",
    "goldDF"
   ]
  },
  {
   "cell_type": "code",
   "execution_count": null,
   "id": "6705a771",
   "metadata": {},
   "outputs": [],
   "source": [
    "goldDF.dtypes"
   ]
  },
  {
   "cell_type": "code",
   "execution_count": null,
   "id": "73ce0c98",
   "metadata": {},
   "outputs": [],
   "source": [
    "goldDF.info()"
   ]
  },
  {
   "cell_type": "markdown",
   "id": "286963c1",
   "metadata": {},
   "source": [
    "### Data Cleaning"
   ]
  },
  {
   "cell_type": "code",
   "execution_count": null,
   "id": "a83f3af6",
   "metadata": {
    "scrolled": true
   },
   "outputs": [],
   "source": [
    "# Checking for missing values\n",
    "\n",
    "missing_values = goldDF.isnull().sum()\n",
    "print(\"Missing Values:\\n\", missing_values)"
   ]
  },
  {
   "cell_type": "code",
   "execution_count": null,
   "id": "10688e91",
   "metadata": {},
   "outputs": [],
   "source": [
    "# Handling missing values (if have)\n",
    "goldDF = goldDF.dropna()"
   ]
  },
  {
   "cell_type": "markdown",
   "id": "85663a87",
   "metadata": {},
   "source": [
    "### Exploratory Data Analysis (EDA)"
   ]
  },
  {
   "cell_type": "code",
   "execution_count": null,
   "id": "7db9335b",
   "metadata": {
    "scrolled": false
   },
   "outputs": [],
   "source": [
    "# Summary statistics\n",
    "\n",
    "summary_stats = goldDF.describe()\n",
    "print(\"Summary Statistics:\\n\", summary_stats)"
   ]
  },
  {
   "cell_type": "code",
   "execution_count": null,
   "id": "fe0273e0",
   "metadata": {},
   "outputs": [],
   "source": [
    "mean_difference = (goldDF['Adj Close'] - goldDF['Close']).mean()\n",
    "std_difference = (goldDF['Adj Close'] - goldDF['Close']).std()\n",
    "\n",
    "print(f\"Mean Difference: {mean_difference:.2f} USD\")\n",
    "print(f\"Standard Deviation of Difference: {std_difference:.2f} USD\")"
   ]
  },
  {
   "cell_type": "code",
   "execution_count": null,
   "id": "75d392ef",
   "metadata": {},
   "outputs": [],
   "source": [
    "mean = goldDF['Close'].mean()"
   ]
  },
  {
   "cell_type": "code",
   "execution_count": null,
   "id": "3aaede1f",
   "metadata": {
    "scrolled": false
   },
   "outputs": [],
   "source": [
    "plt.figure(figsize=(12, 8))\n",
    "\n",
    "# Plotting the Open, Close, and Volume lines\n",
    "plt.plot(goldDF['Date'], goldDF['Adj Close'], label='Adjusted Close Price', linestyle='-')\n",
    "plt.plot(goldDF['Date'], goldDF['Close'], label='Close Price', linestyle='-')\n",
    "\n",
    "# Adding legend, title, and labels\n",
    "plt.legend()\n",
    "plt.title('Adjusted Close Price vs. Closed Market Price')\n",
    "plt.xlabel('Date')\n",
    "plt.ylabel('Price (USD)')\n",
    "\n",
    "plt.show()"
   ]
  },
  {
   "cell_type": "code",
   "execution_count": null,
   "id": "04eb54ff",
   "metadata": {},
   "outputs": [],
   "source": [
    "goldDF.std()"
   ]
  },
  {
   "cell_type": "code",
   "execution_count": null,
   "id": "8fdbeb79",
   "metadata": {},
   "outputs": [],
   "source": [
    "scaler = StandardScaler()\n",
    "X_scaler = scaler.fit_transform(X)\n",
    "X_scaler.std()"
   ]
  },
  {
   "cell_type": "code",
   "execution_count": null,
   "id": "06e2da65",
   "metadata": {
    "scrolled": false
   },
   "outputs": [],
   "source": [
    "goldDF_corr = goldDF.corr()\n",
    "goldDF_corr"
   ]
  },
  {
   "cell_type": "markdown",
   "id": "8b21f759",
   "metadata": {},
   "source": [
    "### Feature selection"
   ]
  },
  {
   "cell_type": "code",
   "execution_count": null,
   "id": "15e47ce0",
   "metadata": {},
   "outputs": [],
   "source": [
    "X = goldDF.drop(['Date', 'Adj Close'], axis=1)\n",
    "y = goldDF.Date"
   ]
  },
  {
   "cell_type": "code",
   "execution_count": null,
   "id": "50a0973f",
   "metadata": {},
   "outputs": [],
   "source": [
    "X.head()"
   ]
  },
  {
   "cell_type": "code",
   "execution_count": null,
   "id": "71878e20",
   "metadata": {},
   "outputs": [],
   "source": [
    "y.head()"
   ]
  },
  {
   "cell_type": "markdown",
   "id": "a20ebb3e",
   "metadata": {},
   "source": [
    "---"
   ]
  },
  {
   "cell_type": "code",
   "execution_count": null,
   "id": "699d820c",
   "metadata": {
    "scrolled": false
   },
   "outputs": [],
   "source": [
    "plt.figure(figsize=(12, 8))\n",
    "\n",
    "plt.plot(goldDF['Date'], goldDF['Open'], label='Open', linestyle='-', color='blue')\n",
    "plt.plot(goldDF['Date'], goldDF['Close'], label='Close', linestyle='-', color='red')\n",
    "\n",
    "plt.legend()\n",
    "plt.title('Gold Price Open Market vs. Closed Market')\n",
    "plt.xlabel('Date')\n",
    "plt.ylabel('Price (USD)')\n",
    "\n",
    "plt.show()"
   ]
  },
  {
   "cell_type": "code",
   "execution_count": null,
   "id": "2a88556a",
   "metadata": {
    "scrolled": false
   },
   "outputs": [],
   "source": [
    "year2023 = goldDF[goldDF['Date'].dt.year == 2023]\n",
    "\n",
    "plt.figure(figsize=(12, 8))\n",
    "\n",
    "plt.plot(year2023['Date'], year2023['Open'], label='Open', linestyle='-', color='blue')\n",
    "plt.plot(year2023['Date'], year2023['Close'], label='Close', linestyle='-', color='red')\n",
    "\n",
    "plt.legend()\n",
    "plt.title('Gold Price Open Market vs. Closed Market - Year 2023')\n",
    "plt.xlabel('Date')\n",
    "plt.ylabel('Price (USD)')\n",
    "\n",
    "plt.show()\n"
   ]
  },
  {
   "cell_type": "code",
   "execution_count": null,
   "id": "9be2f111",
   "metadata": {},
   "outputs": [],
   "source": [
    "import mplfinance as mpf\n",
    "\n",
    "Fdf = goldDF.copy()\n",
    "Fdf.set_index('Date', inplace=True)\n",
    "\n",
    "dec_2023 = Fdf.loc['2023-01-01':'2023-12-31']\n",
    "\n",
    "mpf.plot(dec_2023, type='candle', mav=(3, 6, 9), figratio=(12, 8), volume=True,\n",
    "         title='Candle Chart 2023', show_nontrading=True)\n",
    "\n",
    "mpf.show()\n"
   ]
  },
  {
   "cell_type": "code",
   "execution_count": null,
   "id": "614af894",
   "metadata": {
    "scrolled": true
   },
   "outputs": [],
   "source": [
    "goldDF_2023 = goldDF[goldDF['Date'].dt.year == 2023]\n",
    "\n",
    "top_volume_per_month_2023 = goldDF_2023.groupby(goldDF_2023['Date'].dt.month)['Volume'].idxmax()\n",
    "\n",
    "top_volume_data_2023 = goldDF_2023.loc[top_volume_per_month_2023]\n",
    "\n",
    "print(top_volume_data_2023)"
   ]
  },
  {
   "cell_type": "code",
   "execution_count": null,
   "id": "0be3b017",
   "metadata": {
    "scrolled": false
   },
   "outputs": [],
   "source": [
    "goldDF['Date'] = pd.to_datetime(goldDF['Date'])\n",
    "\n",
    "dec_2023_data = goldDF[(goldDF['Date'].dt.year == 2023) & (goldDF['Date'].dt.month == 12)]\n",
    "\n",
    "top_5_volume_dec_2023 = dec_2023_data.sort_values(by='Volume', ascending=False).head(10)\n",
    "\n",
    "print(top_5_volume_dec_2023)"
   ]
  },
  {
   "cell_type": "code",
   "execution_count": null,
   "id": "2465765e",
   "metadata": {
    "scrolled": false
   },
   "outputs": [],
   "source": [
    "# import mplfinance as mpf\n",
    "\n",
    "# # Assuming 'goldDF' contains the necessary data, and the index is already a DatetimeIndex\n",
    "# # Make sure your DataFrame has a DatetimeIndex, if not, set it using goldDF.set_index('your_datetime_column', inplace=True)\n",
    "\n",
    "# # Filter the DataFrame for December 2023\n",
    "# dec_2023_data = goldDF[(goldDF.index.year == 2023) & (goldDF.index.month == 12)]\n",
    "\n",
    "# # Sort the DataFrame by volume in descending order and get the top 5 rows\n",
    "# top_5_volume_dec_2023 = dec_2023_data.sort_values(by='Volume').head(5)\n",
    "# # Plot the candlestick chart for the top 5 volume days in December 2023\n",
    "# mpf.plot(top_5_volume_dec_2023, type='candle', figratio=(12, 8),\n",
    "#          title='Candlestick Chart - Top 5 Volume Days - December 2023',)\n",
    "\n",
    "# # Display the chart\n",
    "# mpf.show()\n"
   ]
  },
  {
   "cell_type": "code",
   "execution_count": null,
   "id": "7b3b8344",
   "metadata": {},
   "outputs": [],
   "source": [
    "plt.figure(figsize=(12, 8))\n",
    "plt.bar(top_5_volume_dec_2023['Date'], top_5_volume_dec_2023['Volume'], color='blue', alpha=0.7)\n",
    "\n",
    "plt.legend(['Volume'])\n",
    "plt.title('Volume Distribution - Top 5 Volume Days - December 2023')\n",
    "plt.xlabel('Date')\n",
    "plt.ylabel('Volume')\n",
    "\n",
    "plt.show()\n"
   ]
  },
  {
   "cell_type": "markdown",
   "id": "e0e53ddc",
   "metadata": {},
   "source": [
    "2023-12-04 -\n",
    "\n",
    "2023-12-13 - CPI報告  美国CPI在11月增长了3.1%，市场预计美联储将在周三继续推高利率。這個報告是利多黃金所以交易者都會選擇在這個時間入場\n",
    "\n",
    "\n",
    "2023-12-22 - GDP報告 年化增长率为4.9%,低于之前的5.2，這個報告是利多黃金所以交易者都會選擇在這個時間入場\n",
    "\n",
    "黃金升 美金跌 主要的原因\n",
    "经济不确定性 Economic Uncertainty\n",
    "通胀对冲 Inflation Hedge\n",
    "货币贬值 Currency Depreciation"
   ]
  }
 ],
 "metadata": {
  "kernelspec": {
   "display_name": "Python 3 (ipykernel)",
   "language": "python",
   "name": "python3"
  },
  "language_info": {
   "codemirror_mode": {
    "name": "ipython",
    "version": 3
   },
   "file_extension": ".py",
   "mimetype": "text/x-python",
   "name": "python",
   "nbconvert_exporter": "python",
   "pygments_lexer": "ipython3",
   "version": "3.11.5"
  }
 },
 "nbformat": 4,
 "nbformat_minor": 5
}
